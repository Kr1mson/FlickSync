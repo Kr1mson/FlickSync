{
 "cells": [
  {
   "cell_type": "code",
   "execution_count": 34,
   "id": "2b176b87",
   "metadata": {},
   "outputs": [],
   "source": [
    "import av\n",
    "import numpy as np\n",
    "import torch\n",
    "import os\n",
    "from transformers import AutoImageProcessor, TimesformerModel\n",
    "import faiss\n",
    "import pickle\n",
    "from tqdm import tqdm\n",
    "import traceback"
   ]
  },
  {
   "cell_type": "code",
   "execution_count": 35,
   "id": "234cf99e",
   "metadata": {},
   "outputs": [
    {
     "data": {
      "text/plain": [
       "device(type='cuda')"
      ]
     },
     "execution_count": 35,
     "metadata": {},
     "output_type": "execute_result"
    }
   ],
   "source": [
    "device = torch.device(\"cuda\" if torch.cuda.is_available() else \"cpu\")\n",
    "device"
   ]
  },
  {
   "cell_type": "code",
   "execution_count": 36,
   "id": "58c3e8c1",
   "metadata": {},
   "outputs": [],
   "source": [
    "model = TimesformerModel.from_pretrained(\"facebook/timesformer-base-finetuned-k400\").to(device).eval()\n",
    "processor = AutoImageProcessor.from_pretrained(\"facebook/timesformer-base-finetuned-k400\")\n"
   ]
  },
  {
   "cell_type": "code",
   "execution_count": 37,
   "id": "d638d219",
   "metadata": {},
   "outputs": [],
   "source": [
    "video_folder = \"UCF101/train\"\n",
    "dim = model.config.hidden_size"
   ]
  },
  {
   "cell_type": "code",
   "execution_count": 38,
   "id": "0da31afd",
   "metadata": {},
   "outputs": [],
   "source": [
    "faiss_indices = {\n",
    "    \"mean\": faiss.IndexFlatL2(dim),\n",
    "    \"max\": faiss.IndexFlatL2(dim),\n",
    "    \"cls\": faiss.IndexFlatL2(dim)\n",
    "}\n",
    "id_maps = {\"mean\": {}, \"max\": {}, \"cls\": {}}"
   ]
  },
  {
   "cell_type": "code",
   "execution_count": 39,
   "id": "78fd5e47",
   "metadata": {},
   "outputs": [],
   "source": [
    "def sample_frame_indices(clip_len, frame_sample_rate, seg_len):\n",
    "    converted_len = int(clip_len * frame_sample_rate)\n",
    "    if seg_len < converted_len:\n",
    "        start_idx = 0\n",
    "        end_idx = seg_len - 1\n",
    "    else:\n",
    "        end_idx = np.random.randint(converted_len, seg_len)\n",
    "        start_idx = end_idx - converted_len\n",
    "    indices = np.linspace(start_idx, end_idx, num=clip_len)\n",
    "    indices = np.clip(indices, start_idx, end_idx - 1).astype(np.int64)\n",
    "    return indices\n"
   ]
  },
  {
   "cell_type": "code",
   "execution_count": 40,
   "id": "e282f407",
   "metadata": {},
   "outputs": [],
   "source": [
    "def read_video_pyav(video_path, indices):\n",
    "    container = av.open(video_path)\n",
    "    container.seek(0)\n",
    "    frames = []\n",
    "    start_index, end_index = indices[0], indices[-1]\n",
    "    for i, frame in enumerate(container.decode(video=0)):\n",
    "        if i > end_index:\n",
    "            break\n",
    "        if i >= start_index and i in indices:\n",
    "            frames.append(frame.to_ndarray(format=\"rgb24\"))\n",
    "    container.close()\n",
    "    return frames"
   ]
  },
  {
   "cell_type": "code",
   "execution_count": 41,
   "id": "68cbfccb",
   "metadata": {},
   "outputs": [],
   "source": [
    "def read_video_pyav(video_path, indices):\n",
    "    container = av.open(video_path)\n",
    "    container.seek(0)\n",
    "    frames = []\n",
    "    start_index, end_index = indices[0], indices[-1]\n",
    "    for i, frame in enumerate(container.decode(video=0)):\n",
    "        if i > end_index:\n",
    "            break\n",
    "        if i >= start_index and i in indices:\n",
    "            frames.append(frame.to_ndarray(format=\"rgb24\"))\n",
    "    container.close()\n",
    "    return frames"
   ]
  },
  {
   "cell_type": "code",
   "execution_count": 42,
   "id": "fa00723d",
   "metadata": {},
   "outputs": [],
   "source": [
    "def get_video_embeddings_all_pools(frames):\n",
    "    inputs = processor(images=frames, return_tensors=\"pt\", padding=True).to(device)\n",
    "    with torch.no_grad():\n",
    "        outputs = model(**inputs)\n",
    "\n",
    "    features = outputs.last_hidden_state  # (num_frames, seq_len, dim)\n",
    "\n",
    "    mean_pool = features.mean(dim=1).mean(dim=0).cpu().numpy()\n",
    "    max_pool = features.mean(dim=1).max(dim=0).values.cpu().numpy()\n",
    "    cls_token = features[:, 0, :].mean(dim=0).cpu().numpy()\n",
    "\n",
    "    return {\n",
    "        \"mean\": mean_pool,\n",
    "        \"max\": max_pool,\n",
    "        \"cls\": cls_token\n",
    "    }"
   ]
  },
  {
   "cell_type": "code",
   "execution_count": 43,
   "id": "88a13d78",
   "metadata": {},
   "outputs": [],
   "source": [
    "video_paths = []\n",
    "for root, _, files in os.walk(video_folder):\n",
    "    for f in files:\n",
    "        if f.endswith((\".mp4\", \".avi\")):\n",
    "            video_paths.append(os.path.join(root, f))\n"
   ]
  },
  {
   "cell_type": "code",
   "execution_count": 44,
   "id": "d7918a12",
   "metadata": {},
   "outputs": [
    {
     "data": {
      "text/plain": [
       "10055"
      ]
     },
     "execution_count": 44,
     "metadata": {},
     "output_type": "execute_result"
    }
   ],
   "source": [
    "len(video_paths)"
   ]
  },
  {
   "cell_type": "code",
   "execution_count": 45,
   "id": "b96c5c6c",
   "metadata": {},
   "outputs": [
    {
     "name": "stderr",
     "output_type": "stream",
     "text": [
      "  0%|          | 0/10055 [00:00<?, ?it/s]d:\\Reverse_vid\\venv\\Lib\\site-packages\\transformers\\image_processing_utils.py:42: UserWarning: The following named arguments are not valid for `VideoMAEImageProcessor.preprocess` and were ignored: 'padding'\n",
      "  return self.preprocess(images, **kwargs)\n",
      "100%|██████████| 10055/10055 [1:01:51<00:00,  2.71it/s]"
     ]
    },
    {
     "name": "stdout",
     "output_type": "stream",
     "text": [
      "\n",
      "✅ Successfully processed 0 out of 10055 videos.\n"
     ]
    },
    {
     "name": "stderr",
     "output_type": "stream",
     "text": [
      "\n"
     ]
    }
   ],
   "source": [
    "success_count = 0  # Count of videos successfully processed\n",
    "for i, video_path in tqdm(enumerate(video_paths), total=len(video_paths)):\n",
    "    try:\n",
    "        container = av.open(video_path)\n",
    "        total_frames = container.streams.video[0].frames\n",
    "        container.close()\n",
    "\n",
    "        indices = sample_frame_indices(clip_len=8, frame_sample_rate=4, seg_len=total_frames)\n",
    "        frames = read_video_pyav(video_path, indices)\n",
    "        if len(frames) < 8:\n",
    "            continue  # skip videos with insufficient frames\n",
    "\n",
    "        embs = get_video_embeddings_all_pools(frames)\n",
    "\n",
    "        for method in [\"mean\", \"max\", \"cls\"]:\n",
    "\n",
    "            faiss_indices[method].add(np.expand_dims(embs[method], axis=0))\n",
    "            id_maps[method][faiss_indices[method].ntotal - 1] = video_path\n",
    "    except Exception as e:\n",
    "            print(f\"Error processing {video_path}: {repr(e)}\")\n",
    "            traceback.print_exc()\n",
    "print(f\"\\n✅ Successfully processed {success_count} out of {len(video_paths)} videos.\")"
   ]
  },
  {
   "cell_type": "code",
   "execution_count": 47,
   "id": "467f83ce",
   "metadata": {},
   "outputs": [
    {
     "name": "stdout",
     "output_type": "stream",
     "text": [
      "All indices saved.\n"
     ]
    }
   ],
   "source": [
    "for method in [\"mean\", \"max\", \"cls\"]:\n",
    "    faiss.write_index(faiss_indices[method], f\"embeddings/video_embeddings_{method}.index\")\n",
    "    with open(f\"embeddings/id_map_{method}.pkl\", \"wb\") as f:\n",
    "        pickle.dump(id_maps[method], f)\n",
    "\n",
    "print(\"All indices saved.\")"
   ]
  },
  {
   "cell_type": "code",
   "execution_count": null,
   "id": "9727bb0c",
   "metadata": {},
   "outputs": [
    {
     "name": "stdout",
     "output_type": "stream",
     "text": [
      "FAISS index dimension: 768\n",
      "Number of vectors in index: 10052\n"
     ]
    }
   ],
   "source": []
  }
 ],
 "metadata": {
  "kernelspec": {
   "display_name": "venv",
   "language": "python",
   "name": "python3"
  },
  "language_info": {
   "codemirror_mode": {
    "name": "ipython",
    "version": 3
   },
   "file_extension": ".py",
   "mimetype": "text/x-python",
   "name": "python",
   "nbconvert_exporter": "python",
   "pygments_lexer": "ipython3",
   "version": "3.12.6"
  }
 },
 "nbformat": 4,
 "nbformat_minor": 5
}
